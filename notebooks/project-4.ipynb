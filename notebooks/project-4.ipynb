{
 "metadata": {
  "language_info": {
   "codemirror_mode": {
    "name": "ipython",
    "version": 3
   },
   "file_extension": ".py",
   "mimetype": "text/x-python",
   "name": "python",
   "nbconvert_exporter": "python",
   "pygments_lexer": "ipython3",
   "version": "3.6.9-final"
  },
  "orig_nbformat": 2,
  "kernelspec": {
   "name": "Python 3.6.9 64-bit",
   "display_name": "Python 3.6.9 64-bit",
   "metadata": {
    "interpreter": {
     "hash": "31f2aee4e71d21fbe5cf8b01ff0e069b9275f58929596ceb00d14d90e3e16cd6"
    }
   }
  }
 },
 "nbformat": 4,
 "nbformat_minor": 2,
 "cells": [
  {
   "cell_type": "code",
   "execution_count": 1,
   "metadata": {},
   "outputs": [],
   "source": [
    "import pandas as pd"
   ]
  },
  {
   "source": [
    "We'll be predicting the number of goals scored by teams in soccer matches today, let's get started by loading the datasets into dataframes."
   ],
   "cell_type": "markdown",
   "metadata": {}
  },
  {
   "cell_type": "code",
   "execution_count": 153,
   "metadata": {},
   "outputs": [],
   "source": [
    "matches = pd.read_csv('../data/spi_matches.csv')\n",
    "rankings = pd.read_csv('../data/spi_global_rankings.csv')\n",
    "played_matches = matches.dropna()"
   ]
  },
  {
   "source": [
    "One feature we could track is win-streaks. There is a common notion in sports that teams can get 'hot' and have a higher chance of winning. We can add a column to the matches dataframe to track the current winstreak for each of the respective teams. The one potential drawback of this is that all teams will start with a winstreak of zero."
   ],
   "cell_type": "markdown",
   "metadata": {}
  },
  {
   "cell_type": "code",
   "execution_count": 155,
   "metadata": {},
   "outputs": [],
   "source": [
    "win_streaks = {}\n",
    "played_matches['win_streak1'] = 0\n",
    "played_matches['win_streak2'] = 0\n",
    "for i, row in played_matches.iterrows():\n",
    "    if row.team1 not in win_streaks:\n",
    "        win_streaks[row.team1] = 0\n",
    "    if row.team2 not in win_streaks:\n",
    "        win_streaks[row.team2] = 0\n",
    "    played_matches.at[i, 'win_streak1'] = win_streaks[row.team1]\n",
    "    played_matches.at[i, 'win_streak2'] = win_streaks[row.team2]\n",
    "\n",
    "    if row.score1 > row.score2:\n",
    "        win_streaks[row.team1] += 1\n",
    "        win_streaks[row.team2] = 0\n",
    "    elif row.score2 > row.score1:\n",
    "        win_streaks[row.team2] += 1\n",
    "        win_streaks[row.team1] = 0\n",
    "    else:\n",
    "        win_streaks[row.team1] = 0\n",
    "        win_streaks[row.team2] = 0\n",
    "\n",
    "\n",
    "\n",
    "\n",
    "\n"
   ]
  },
  {
   "source": [
    "We could also take this idea further by weighting win streaks according to the strengths of the team defeated. For example, Paris Saint-Germain stomping Ligue 1 bottom-feeders every week carries much less weight than winning several games in a row playing in the Champions League."
   ],
   "cell_type": "markdown",
   "metadata": {}
  },
  {
   "source": [
    "weighted_win_streaks = {}\n",
    "played_matches['win_streak_weighted1'] = 0.0\n",
    "played_matches['win_streak_weighted2'] = 0.0\n",
    "for i, row in played_matches.iterrows():\n",
    "    if row.team1 not in weighted_win_streaks:\n",
    "        weighted_win_streaks[row.team1] = 0\n",
    "    if row.team2 not in weighted_win_streaks:\n",
    "        weighted_win_streaks[row.team2] = 0\n",
    "    played_matches.at[i, 'win_streak_weighted1'] = weighted_win_streaks[row.team1]\n",
    "    played_matches.at[i, 'win_streak_weighted2'] = weighted_win_streaks[row.team2]\n",
    "\n",
    "    if row.score1 > row.score2:\n",
    "        weighted_win_streaks[row.team1] += max(0.5 * (row.spi2 - row.spi1) + 0.5, 0.5)\n",
    "        weighted_win_streaks[row.team2] = 0\n",
    "    elif row.score2 > row.score1:\n",
    "        weighted_win_streaks[row.team2] += max(0.5 * (row.spi1 - row.spi2) + 0.5, 0.5)\n",
    "        weighted_win_streaks[row.team1] = 0\n",
    "    else:\n",
    "        weighted_win_streaks[row.team1] = 0\n",
    "        weighted_win_streaks[row.team2] = 0\n",
    "\n",
    "\n",
    "\n"
   ],
   "cell_type": "code",
   "metadata": {},
   "execution_count": 156,
   "outputs": []
  },
  {
   "source": [
    "Cool, so now we've added a time-accurate non-weighted and weighted win streak to the rankings dataframe. This could be another useful feature to predict scores in a given match.\n",
    "\n"
   ],
   "cell_type": "markdown",
   "metadata": {}
  },
  {
   "cell_type": "code",
   "execution_count": 157,
   "metadata": {},
   "outputs": [
    {
     "output_type": "execute_result",
     "data": {
      "text/plain": "   \n26       2016  2016-08-14       1843   \n27       2016  2016-08-14       2411   \n28       2016  2016-08-14       1843   \n29       2016  2016-08-15       2411   \n30       2016  2016-08-19       1843   \n31       2016  2016-08-19       1869   \n32       2016  2016-08-19       2411   \n33       2016  2016-08-19       1869   \n34       2016  2016-08-20       2411   \n35       2016  2016-08-20       2411   \n36       2016  2016-08-20       2411   \n37       2016  2016-08-20       2411   \n38       2016  2016-08-20       2411   \n39       2016  2016-08-20       2411   \n...       ...         ...        ...   \n35055    2020  2020-10-04       1856   \n35056    2020  2020-10-04       1843   \n35058    2020  2020-10-04       2411   \n35059    2020  2020-10-04       2412   \n35060    2020  2020-10-04       1843   \n35062    2020  2020-10-04       1843   \n35063    2020  2020-10-04       1854   \n35064    2020  2020-10-04       1845   \n35072    2020  2020-10-04       2105   \n35077    2020  2020-10-04       2412   \n35079    2020  2020-10-04       1864   \n35080    2020  2020-10-04       1849   \n35082    2020  2020-10-04       1843   \n35086    2020  2020-10-04       2411   \n35090    2020  2020-10-04       1854   \n35092    2020  2020-10-04       1845   \n35099    2020  2020-10-04       1869   \n35101    2020  2020-10-04       1952   \n35102    2020  2020-10-04       1864   \n35103    2020  2020-10-04       1864   \n35105    2020  2020-10-04       2411   \n35110    2020  2020-10-04       2105   \n35111    2020  2020-10-04       1856   \n35112    2020  2020-10-04       1843   \n35114    2020  2020-10-04       2105   \n35115    2020  2020-10-04       1864   \n35118    2020  2020-10-04       2105   \n35119    2020  2020-10-04       2105   \n35120    2020  2020-10-04       2105   \n35121    2020  2020-10-04       1952   \n\n                                         league                 team1  \\\n10                               French Ligue 1                Bastia   \n11                               French Ligue 1             AS Monaco   \n12                      Barclays Premier League             Hull City   \n13                      Barclays Premier League         Middlesbrough   \n14                      Barclays Premier League               Burnley   \n15                      Barclays Premier League           Southampton   \n16                      Barclays Premier League        Crystal Palace   \n17                      Barclays Premier League               Everton   \n18                               French Ligue 1              Bordeaux   \n19                      Barclays Premier League       Manchester City   \n20                               French Ligue 1             Dijon FCO   \n21                               French Ligue 1           Montpellier   \n22                               French Ligue 1                  Caen   \n23                               French Ligue 1                  Metz   \n24                      Barclays Premier League       AFC Bournemouth   \n25                               French Ligue 1     AS Nancy Lorraine   \n26                               French Ligue 1                  Nice   \n27                      Barclays Premier League               Arsenal   \n28                               French Ligue 1             Marseille   \n29                      Barclays Premier League               Chelsea   \n30                               French Ligue 1                  Lyon   \n31                     Spanish Primera Division                Málaga   \n32                      Barclays Premier League     Manchester United   \n33                     Spanish Primera Division   Deportivo La Coruña   \n34                      Barclays Premier League            Stoke City   \n35                      Barclays Premier League               Watford   \n36                      Barclays Premier League          Swansea City   \n37                      Barclays Premier League               Burnley   \n38                      Barclays Premier League     Tottenham Hotspur   \n39                      Barclays Premier League  West Bromwich Albion   \n...                                         ...                   ...   \n35055                             Italy Serie B                  Pisa   \n35056                            French Ligue 1                 Brest   \n35058                   Barclays Premier League               Arsenal   \n35059               English League Championship             Brentford   \n35060                            French Ligue 1                  Metz   \n35062                            French Ligue 1            Strasbourg   \n35063                             Italy Serie A                 Parma   \n35064                         German Bundesliga         VfL Wolfsburg   \n35072                        Brasileiro Série A              Botafogo   \n35077               English League Championship            Stoke City   \n35079                           Portuguese Liga         C.D. Nacional   \n35080                          Dutch Eredivisie                   PSV   \n35082                            French Ligue 1          Stade Rennes   \n35086                   Barclays Premier League     Manchester United   \n35090                             Italy Serie A              AC Milan   \n35092                         German Bundesliga         Bayern Munich   \n35099                  Spanish Primera Division                 Cadiz   \n35101  Mexican Primera Division Torneo Apertura                Toluca   \n35102                           Portuguese Liga             Famalicao   \n35103                           Portuguese Liga               Benfica   \n35105                   Barclays Premier League           Aston Villa   \n35110                        Brasileiro Série A              Flamengo   \n35111                             Italy Serie B            Cittadella   \n35112                            French Ligue 1                  Lyon   \n35114                        Brasileiro Série A              Coritiba   \n35115                           Portuguese Liga          Portimonense   \n35118                        Brasileiro Série A             Fortaleza   \n35119                        Brasileiro Série A                 Goiás   \n35120                        Brasileiro Série A                 Bahía   \n35121  Mexican Primera Division Torneo Apertura             FC Juárez   \n\n                      team2   spi1   spi2   prob1   prob2  \\\n10      Paris Saint-Germain  51.16  85.68  0.0463  0.8380   \n11                 Guingamp  68.85  56.48  0.5714  0.1669   \n12           Leicester City  53.57  66.81  0.3459  0.3621   \n13               Stoke City  56.32  60.35  0.4380  0.2692   \n14             Swansea City  58.98  59.74  0.4482  0.2663   \n15                  Watford  69.49  59.33  0.5759  0.1874   \n16     West Bromwich Albion  55.19  58.66  0.4214  0.2939   \n17        Tottenham Hotspur  68.02  73.25  0.3910  0.3401   \n18               St Etienne  62.01  64.92  0.4232  0.2764   \n19               Sunderland  86.42  53.64  0.8152  0.0525   \n20                   Nantes  55.00  54.90  0.4471  0.2490   \n21                   Angers  58.82  53.10  0.4939  0.2109   \n22                  Lorient  55.00  47.64  0.4737  0.2401   \n23                    Lille  54.34  66.10  0.3444  0.3479   \n24        Manchester United  61.57  80.49  0.2111  0.5461   \n25                     Lyon  54.87  68.23  0.3584  0.3551   \n26             Stade Rennes  56.70  53.62  0.4750  0.2298   \n27                Liverpool  82.55  77.44  0.5551  0.2115   \n28                 Toulouse  62.62  56.83  0.5033  0.2126   \n29          West Ham United  80.70  63.27  0.6908  0.1177   \n30                     Caen  70.32  55.32  0.6106  0.1554   \n31                  Osasuna  72.57  56.93  0.5475  0.1897   \n32              Southampton  81.05  69.22  0.6197  0.1494   \n33                    Eibar  66.52  62.29  0.5003  0.2260   \n34          Manchester City  60.42  85.71  0.1278  0.6720   \n35                  Chelsea  59.57  80.51  0.1955  0.5783   \n36                Hull City  60.87  53.47  0.4993  0.2171   \n37                Liverpool  57.85  78.87  0.2079  0.5520   \n38           Crystal Palace  73.64  54.21  0.6638  0.1190   \n39                  Everton  59.64  67.51  0.3696  0.3491   \n...                     ...    ...    ...     ...     ...   \n35055             Cremonese  21.94  23.77  0.4083  0.2826   \n35056             AS Monaco  56.71  66.95  0.3087  0.4525   \n35058      Sheffield United  78.69  66.93  0.5815  0.1772   \n35059     Preston North End  62.33  48.14  0.5746  0.1629   \n35060               Lorient  55.85  51.97  0.4464  0.2734   \n35062                 Lille  58.22  71.19  0.2705  0.4475   \n35063                Verona  55.17  58.63  0.3964  0.3315   \n35064           FC Augsburg  72.23  63.91  0.5169  0.2135   \n35072            Fluminense  42.46  51.57  0.3871  0.3392   \n35077            Birmingham  53.34  44.74  0.4999  0.2262   \n35079            Belenenses  42.55  39.61  0.4804  0.2523   \n35080       Fortuna Sittard  63.67  31.84  0.8186  0.0449   \n35082                 Reims  68.66  54.24  0.5958  0.1475   \n35086     Tottenham Hotspur  83.96  78.87  0.5211  0.2460   \n35090                Spezia  79.82  51.98  0.7842  0.0616   \n35092         Hertha Berlin  94.33  68.37  0.8733  0.0340   \n35099               Granada  64.51  71.33  0.3558  0.3600   \n35101             Cruz Azul  37.28  55.94  0.2682  0.4844   \n35102               Rio Ave  44.48  52.79  0.3651  0.3653   \n35103            SC Farense  77.02  40.81  0.8761  0.0283   \n35105             Liverpool  69.04  91.44  0.1201  0.7000   \n35110   Atlético Paranaense  70.01  52.75  0.6899  0.1066   \n35111               Brescia  27.07  39.21  0.2970  0.4209   \n35112             Marseille  75.95  65.03  0.5698  0.1851   \n35114             São Paulo  39.70  58.52  0.2877  0.4349   \n35115           Sporting CP  45.11  60.73  0.2675  0.4602   \n35118   Atlético Goianiense  48.05  43.76  0.4758  0.2458   \n35119                Santos  40.47  55.61  0.3331  0.4134   \n35120          Sport Recife  47.94  43.11  0.5103  0.2391   \n35121               Pachuca  38.70  50.68  0.3257  0.3725   \n\n               ...            xg1   xg2  nsxg1  nsxg2  adj_score1  adj_score2  \\\n10             ...           0.97  0.63   0.43   0.45        0.00        1.05   \n11             ...           2.45  0.77   1.75   0.42        2.10        2.10   \n12             ...           0.85  2.77   0.17   1.25        2.10        1.05   \n13             ...           1.40  0.55   1.13   1.06        1.05        1.05   \n14             ...           1.24  1.84   1.71   1.56        0.00        1.05   \n15             ...           1.05  0.22   1.52   0.41        1.05        1.05   \n16             ...           1.11  0.68   0.84   1.60        0.00        1.05   \n17             ...           0.73  1.11   0.88   1.81        1.05        1.05   \n18             ...           1.03  1.84   1.10   2.26        3.12        2.10   \n19             ...           2.14  1.25   1.81   0.92        2.10        1.05   \n20             ...           0.30  1.17   0.81   0.87        0.00        1.05   \n21             ...           0.80  0.53   0.58   1.28        1.05        0.00   \n22             ...           2.14  2.04   1.88   0.91        3.15        2.10   \n23             ...           2.35  1.87   0.68   1.26        3.15        2.10   \n24             ...           0.51  2.21   1.11   0.88        1.05        3.15   \n25             ...           0.37  2.34   1.05   1.39        0.00        2.63   \n26             ...           0.71  1.30   0.33   1.54        1.05        0.00   \n27             ...           1.14  1.84   1.19   1.49        3.15        4.20   \n28             ...           0.38  0.26   0.59   0.81        0.00        0.00   \n29             ...           1.55  0.55   1.76   0.75        2.10        1.05   \n30             ...           2.92  0.53   1.79   0.52        1.58        0.00   \n31             ...           0.92  0.81   1.40   0.69        1.05        1.05   \n32             ...           1.37  0.70   1.59   1.69        2.10        0.00   \n33             ...           1.70  0.33   0.48   0.81        2.10        1.05   \n34             ...           1.38  2.26   0.83   2.05        1.05        3.27   \n35             ...           0.76  1.87   0.47   2.04        1.05        2.10   \n36             ...           1.35  1.94   3.11   0.94        0.00        1.58   \n37             ...           0.21  1.19   0.33   2.36        2.10        0.00   \n38             ...           2.32  0.40   1.38   0.79        1.05        0.00   \n39             ...           2.12  1.95   1.76   2.14        1.05        2.10   \n...            ...            ...   ...    ...    ...         ...         ...   \n35055          ...           0.75  0.43   1.26   1.06        1.05        1.05   \n35056          ...           0.81  1.79   0.87   1.77        1.05        0.00   \n35058          ...           0.61  0.20   0.80   0.73        2.10        1.05   \n35059          ...           1.53  1.78   0.77   1.50        2.10        4.20   \n35060          ...           1.61  0.85   1.97   0.73        3.15        1.05   \n35062          ...           1.14  1.77   2.53   1.09        0.00        3.15   \n35063          ...           1.14  0.73   0.83   1.49        1.05        0.00   \n35064          ...           1.42  1.50   2.19   1.03        0.00        0.00   \n35072          ...           2.00  0.30   1.56   0.99        1.05        1.05   \n35077          ...           1.15  0.16   1.42   0.52        1.05        1.05   \n35079          ...           1.01  0.74   1.03   0.81        0.00        0.00   \n35080          ...           1.33  1.03   1.34   1.68        1.73        0.00   \n35082          ...           2.18  0.99   1.78   0.66        2.10        2.10   \n35086          ...           0.93  3.75   0.85   1.46        1.05        5.29   \n35090          ...           2.56  0.15   2.13   0.35        2.82        0.00   \n35092          ...           4.33  1.07   2.94   0.67        4.20        3.15   \n35099          ...           1.17  0.73   1.01   1.12        1.05        1.05   \n35101          ...           0.94  2.60   0.91   3.07        2.10        0.00   \n35102          ...           1.58  0.86   0.52   1.54        1.05        1.05   \n35103          ...           1.85  1.96   1.83   1.01        2.71        2.10   \n35105          ...           3.23  2.01   1.40   2.22        7.23        2.10   \n35110          ...           2.10  0.93   1.79   0.65        2.99        1.05   \n35111          ...           0.58  0.71   0.98   1.63        2.54        0.00   \n35112          ...           3.08  0.48   2.39   0.26        0.84        1.05   \n35114          ...           0.13  1.69   0.14   2.18        1.05        1.05   \n35115          ...           0.88  1.82   1.41   1.52        0.00        2.10   \n35118          ...           1.06  0.39   1.68   0.87        0.00        0.00   \n35119          ...           0.98  2.62   0.63   1.05        2.10        2.98   \n35120          ...           2.86  1.05   2.01   0.96        1.05        2.10   \n35121          ...           1.15  1.25   0.87   1.70        1.05        1.05   \n\n       win_streak1  win_streak2  win_streak_weighted1  win_streak_weighted2  \n10               0            0                 0.000                 0.000  \n11               0            0                 0.000                 0.000  \n12               0            0                 0.000                 0.000  \n13               0            0                 0.000                 0.000  \n14               0            0                 0.000                 0.000  \n15               0            0                 0.000                 0.000  \n16               0            0                 0.000                 0.000  \n17               0            0                 0.000                 0.000  \n18               0            0                 0.000                 0.000  \n19               0            0                 0.000                 0.000  \n20               0            0                 0.000                 0.000  \n21               0            0                 0.000                 0.000  \n22               0            0                 0.000                 0.000  \n23               0            0                 0.000                 0.000  \n24               0            0                 0.000                 0.000  \n25               0            0                 0.000                 0.000  \n26               0            0                 0.000                 0.000  \n27               0            0                 0.000                 0.000  \n28               0            0                 0.000                 0.000  \n29               0            0                 0.000                 0.000  \n30               1            1                 0.500                 0.500  \n31               0            0                 0.000                 0.000  \n32               1            0                 0.500                 0.000  \n33               0            0                 0.000                 0.000  \n34               0            1                 0.000                 0.500  \n35               0            1                 0.000                 0.500  \n36               1            1                 0.500                 7.120  \n37               0            1                 0.000                 3.055  \n38               0            0                 0.000                 0.000  \n39               1            0                 0.500                 0.000  \n...            ...          ...                   ...                   ...  \n35055            0            0                 0.000                 0.000  \n35056            0            1                 0.000                 0.500  \n35058            0            0                 0.000                 0.000  \n35059            0            0                 0.000                 0.000  \n35060            0            0                 0.000                 0.000  \n35062            0            1                 0.000                 0.500  \n35063            0            1                 0.000                 1.470  \n35064            0            2                 0.000                11.820  \n35072            0            1                 0.000                 0.500  \n35077            1            0                 0.500                 0.000  \n35079            1            0                 0.500                 0.000  \n35080            0            0                 0.000                 0.000  \n35082            7            0                 3.640                 0.000  \n35086            1            0                 0.500                 0.000  \n35090            4            1                 2.000                 5.470  \n35092            0            0                 0.000                 0.000  \n35099            1            0                 3.085                 0.000  \n35101            0            0                 0.000                 0.000  \n35102            1            0                 0.500                 0.000  \n35103            5            0                 2.500                 0.000  \n35105            2            5                 1.975                 2.500  \n35110            0            2                 0.000                 1.000  \n35111            1            0                 0.500                 0.000  \n35112            0            0                 0.000                 0.000  \n35114            0            0                 0.000                 0.000  \n35115            0            1                 0.000                 0.500  \n35118            0            0                 0.000                 0.000  \n35119            0            0                 0.000                 0.000  \n35120            1            2                 0.500                 8.015  \n35121            0            0                 0.000                 0.000  \n\n[16526 rows x 27 columns]",
      "text/html": "<div>\n<style scoped>\n    .dataframe tbody tr th:only-of-type {\n        vertical-align: middle;\n    }\n\n    .dataframe tbody tr th {\n        vertical-align: top;\n    }\n\n    .dataframe thead th {\n        text-align: right;\n    }\n</style>\n<table border=\"1\" class=\"dataframe\">\n  <thead>\n    <tr style=\"text-align: right;\">\n      <th></th>\n      <th>season</th>\n      <th>date</th>\n      <th>league_id</th>\n      <th>league</th>\n      <th>team1</th>\n      <th>team2</th>\n      <th>spi1</th>\n      <th>spi2</th>\n      <th>prob1</th>\n      <th>prob2</th>\n      <th>...</th>\n      <th>xg1</th>\n      <th>xg2</th>\n      <th>nsxg1</th>\n      <th>nsxg2</th>\n      <th>adj_score1</th>\n      <th>adj_score2</th>\n      <th>win_streak1</th>\n      <th>win_streak2</th>\n      <th>win_streak_weighted1</th>\n      <th>win_streak_weighted2</th>\n    </tr>\n  </thead>\n  <tbody>\n    <tr>\n      <th>10</th>\n      <td>2016</td>\n      <td>2016-08-12</td>\n      <td>1843</td>\n      <td>French Ligue 1</td>\n      <td>Bastia</td>\n      <td>Paris Saint-Germain</td>\n      <td>51.16</td>\n      <td>85.68</td>\n      <td>0.0463</td>\n      <td>0.8380</td>\n      <td>...</td>\n      <td>0.97</td>\n      <td>0.63</td>\n      <td>0.43</td>\n      <td>0.45</td>\n      <td>0.00</td>\n      <td>1.05</td>\n      <td>0</td>\n      <td>0</td>\n      <td>0.000</td>\n      <td>0.000</td>\n    </tr>\n    <tr>\n      <th>11</th>\n      <td>2016</td>\n      <td>2016-08-12</td>\n      <td>1843</td>\n      <td>French Ligue 1</td>\n      <td>AS Monaco</td>\n      <td>Guingamp</td>\n      <td>68.85</td>\n      <td>56.48</td>\n      <td>0.5714</td>\n      <td>0.1669</td>\n      <td>...</td>\n      <td>2.45</td>\n      <td>0.77</td>\n      <td>1.75</td>\n      <td>0.42</td>\n      <td>2.10</td>\n      <td>2.10</td>\n      <td>0</td>\n      <td>0</td>\n      <td>0.000</td>\n      <td>0.000</td>\n    </tr>\n    <tr>\n      <th>12</th>\n      <td>2016</td>\n      <td>2016-08-13</td>\n      <td>2411</td>\n      <td>Barclays Premier League</td>\n      <td>Hull City</td>\n      <td>Leicester City</td>\n      <td>53.57</td>\n      <td>66.81</td>\n      <td>0.3459</td>\n      <td>0.3621</td>\n      <td>...</td>\n      <td>0.85</td>\n      <td>2.77</td>\n      <td>0.17</td>\n      <td>1.25</td>\n      <td>2.10</td>\n      <td>1.05</td>\n      <td>0</td>\n      <td>0</td>\n      <td>0.000</td>\n      <td>0.000</td>\n    </tr>\n    <tr>\n      <th>13</th>\n      <td>2016</td>\n      <td>2016-08-13</td>\n      <td>2411</td>\n      <td>Barclays Premier League</td>\n      <td>Middlesbrough</td>\n      <td>Stoke City</td>\n      <td>56.32</td>\n      <td>60.35</td>\n      <td>0.4380</td>\n      <td>0.2692</td>\n      <td>...</td>\n      <td>1.40</td>\n      <td>0.55</td>\n      <td>1.13</td>\n      <td>1.06</td>\n      <td>1.05</td>\n      <td>1.05</td>\n      <td>0</td>\n      <td>0</td>\n      <td>0.000</td>\n      <td>0.000</td>\n    </tr>\n    <tr>\n      <th>14</th>\n      <td>2016</td>\n      <td>2016-08-13</td>\n      <td>2411</td>\n      <td>Barclays Premier League</td>\n      <td>Burnley</td>\n      <td>Swansea City</td>\n      <td>58.98</td>\n      <td>59.74</td>\n      <td>0.4482</td>\n      <td>0.2663</td>\n      <td>...</td>\n      <td>1.24</td>\n      <td>1.84</td>\n      <td>1.71</td>\n      <td>1.56</td>\n      <td>0.00</td>\n      <td>1.05</td>\n      <td>0</td>\n      <td>0</td>\n      <td>0.000</td>\n      <td>0.000</td>\n    </tr>\n    <tr>\n      <th>15</th>\n      <td>2016</td>\n      <td>2016-08-13</td>\n      <td>2411</td>\n      <td>Barclays Premier League</td>\n      <td>Southampton</td>\n      <td>Watford</td>\n      <td>69.49</td>\n      <td>59.33</td>\n      <td>0.5759</td>\n      <td>0.1874</td>\n      <td>...</td>\n      <td>1.05</td>\n      <td>0.22</td>\n      <td>1.52</td>\n      <td>0.41</td>\n      <td>1.05</td>\n      <td>1.05</td>\n      <td>0</td>\n      <td>0</td>\n      <td>0.000</td>\n      <td>0.000</td>\n    </tr>\n    <tr>\n      <th>16</th>\n      <td>2016</td>\n      <td>2016-08-13</td>\n      <td>2411</td>\n      <td>Barclays Premier League</td>\n      <td>Crystal Palace</td>\n      <td>West Bromwich Albion</td>\n      <td>55.19</td>\n      <td>58.66</td>\n      <td>0.4214</td>\n      <td>0.2939</td>\n      <td>...</td>\n      <td>1.11</td>\n      <td>0.68</td>\n      <td>0.84</td>\n      <td>1.60</td>\n      <td>0.00</td>\n      <td>1.05</td>\n      <td>0</td>\n      <td>0</td>\n      <td>0.000</td>\n      <td>0.000</td>\n    </tr>\n    <tr>\n      <th>17</th>\n      <td>2016</td>\n      <td>2016-08-13</td>\n      <td>2411</td>\n      <td>Barclays Premier League</td>\n      <td>Everton</td>\n      <td>Tottenham Hotspur</td>\n      <td>68.02</td>\n      <td>73.25</td>\n      <td>0.3910</td>\n      <td>0.3401</td>\n      <td>...</td>\n      <td>0.73</td>\n      <td>1.11</td>\n      <td>0.88</td>\n      <td>1.81</td>\n      <td>1.05</td>\n      <td>1.05</td>\n      <td>0</td>\n      <td>0</td>\n      <td>0.000</td>\n      <td>0.000</td>\n    </tr>\n    <tr>\n      <th>18</th>\n      <td>2016</td>\n      <td>2016-08-13</td>\n      <td>1843</td>\n      <td>French Ligue 1</td>\n      <td>Bordeaux</td>\n      <td>St Etienne</td>\n      <td>62.01</td>\n      <td>64.92</td>\n      <td>0.4232</td>\n      <td>0.2764</td>\n      <td>...</td>\n      <td>1.03</td>\n      <td>1.84</td>\n      <td>1.10</td>\n      <td>2.26</td>\n      <td>3.12</td>\n      <td>2.10</td>\n      <td>0</td>\n      <td>0</td>\n      <td>0.000</td>\n      <td>0.000</td>\n    </tr>\n    <tr>\n      <th>19</th>\n      <td>2016</td>\n      <td>2016-08-13</td>\n      <td>2411</td>\n      <td>Barclays Premier League</td>\n      <td>Manchester City</td>\n      <td>Sunderland</td>\n      <td>86.42</td>\n      <td>53.64</td>\n      <td>0.8152</td>\n      <td>0.0525</td>\n      <td>...</td>\n      <td>2.14</td>\n      <td>1.25</td>\n      <td>1.81</td>\n      <td>0.92</td>\n      <td>2.10</td>\n      <td>1.05</td>\n      <td>0</td>\n      <td>0</td>\n      <td>0.000</td>\n      <td>0.000</td>\n    </tr>\n    <tr>\n      <th>20</th>\n      <td>2016</td>\n      <td>2016-08-13</td>\n      <td>1843</td>\n      <td>French Ligue 1</td>\n      <td>Dijon FCO</td>\n      <td>Nantes</td>\n      <td>55.00</td>\n      <td>54.90</td>\n      <td>0.4471</td>\n      <td>0.2490</td>\n      <td>...</td>\n      <td>0.30</td>\n      <td>1.17</td>\n      <td>0.81</td>\n      <td>0.87</td>\n      <td>0.00</td>\n      <td>1.05</td>\n      <td>0</td>\n      <td>0</td>\n      <td>0.000</td>\n      <td>0.000</td>\n    </tr>\n    <tr>\n      <th>21</th>\n      <td>2016</td>\n      <td>2016-08-13</td>\n      <td>1843</td>\n      <td>French Ligue 1</td>\n      <td>Montpellier</td>\n      <td>Angers</td>\n      <td>58.82</td>\n      <td>53.10</td>\n      <td>0.4939</td>\n      <td>0.2109</td>\n      <td>...</td>\n      <td>0.80</td>\n      <td>0.53</td>\n      <td>0.58</td>\n      <td>1.28</td>\n      <td>1.05</td>\n      <td>0.00</td>\n      <td>0</td>\n      <td>0</td>\n      <td>0.000</td>\n      <td>0.000</td>\n    </tr>\n    <tr>\n      <th>22</th>\n      <td>2016</td>\n      <td>2016-08-13</td>\n      <td>1843</td>\n      <td>French Ligue 1</td>\n      <td>Caen</td>\n      <td>Lorient</td>\n      <td>55.00</td>\n      <td>47.64</td>\n      <td>0.4737</td>\n      <td>0.2401</td>\n      <td>...</td>\n      <td>2.14</td>\n      <td>2.04</td>\n      <td>1.88</td>\n      <td>0.91</td>\n      <td>3.15</td>\n      <td>2.10</td>\n      <td>0</td>\n      <td>0</td>\n      <td>0.000</td>\n      <td>0.000</td>\n    </tr>\n    <tr>\n      <th>23</th>\n      <td>2016</td>\n      <td>2016-08-13</td>\n      <td>1843</td>\n      <td>French Ligue 1</td>\n      <td>Metz</td>\n      <td>Lille</td>\n      <td>54.34</td>\n      <td>66.10</td>\n      <td>0.3444</td>\n      <td>0.3479</td>\n      <td>...</td>\n      <td>2.35</td>\n      <td>1.87</td>\n      <td>0.68</td>\n      <td>1.26</td>\n      <td>3.15</td>\n      <td>2.10</td>\n      <td>0</td>\n      <td>0</td>\n      <td>0.000</td>\n      <td>0.000</td>\n    </tr>\n    <tr>\n      <th>24</th>\n      <td>2016</td>\n      <td>2016-08-14</td>\n      <td>2411</td>\n      <td>Barclays Premier League</td>\n      <td>AFC Bournemouth</td>\n      <td>Manchester United</td>\n      <td>61.57</td>\n      <td>80.49</td>\n      <td>0.2111</td>\n      <td>0.5461</td>\n      <td>...</td>\n      <td>0.51</td>\n      <td>2.21</td>\n      <td>1.11</td>\n      <td>0.88</td>\n      <td>1.05</td>\n      <td>3.15</td>\n      <td>0</td>\n      <td>0</td>\n      <td>0.000</td>\n      <td>0.000</td>\n    </tr>\n    <tr>\n      <th>25</th>\n      <td>2016</td>\n      <td>2016-08-14</td>\n      <td>1843</td>\n      <td>French Ligue 1</td>\n      <td>AS Nancy Lorraine</td>\n      <td>Lyon</td>\n      <td>54.87</td>\n      <td>68.23</td>\n      <td>0.3584</td>\n      <td>0.3551</td>\n      <td>...</td>\n      <td>0.37</td>\n      <td>2.34</td>\n      <td>1.05</td>\n      <td>1.39</td>\n      <td>0.00</td>\n      <td>2.63</td>\n      <td>0</td>\n      <td>0</td>\n      <td>0.000</td>\n      <td>0.000</td>\n    </tr>\n    <tr>\n      <th>26</th>\n      <td>2016</td>\n      <td>2016-08-14</td>\n      <td>1843</td>\n      <td>French Ligue 1</td>\n      <td>Nice</td>\n      <td>Stade Rennes</td>\n      <td>56.70</td>\n      <td>53.62</td>\n      <td>0.4750</td>\n      <td>0.2298</td>\n      <td>...</td>\n      <td>0.71</td>\n      <td>1.30</td>\n      <td>0.33</td>\n      <td>1.54</td>\n      <td>1.05</td>\n      <td>0.00</td>\n      <td>0</td>\n      <td>0</td>\n      <td>0.000</td>\n      <td>0.000</td>\n    </tr>\n    <tr>\n      <th>27</th>\n      <td>2016</td>\n      <td>2016-08-14</td>\n      <td>2411</td>\n      <td>Barclays Premier League</td>\n      <td>Arsenal</td>\n      <td>Liverpool</td>\n      <td>82.55</td>\n      <td>77.44</td>\n      <td>0.5551</td>\n      <td>0.2115</td>\n      <td>...</td>\n      <td>1.14</td>\n      <td>1.84</td>\n      <td>1.19</td>\n      <td>1.49</td>\n      <td>3.15</td>\n      <td>4.20</td>\n      <td>0</td>\n      <td>0</td>\n      <td>0.000</td>\n      <td>0.000</td>\n    </tr>\n    <tr>\n      <th>28</th>\n      <td>2016</td>\n      <td>2016-08-14</td>\n      <td>1843</td>\n      <td>French Ligue 1</td>\n      <td>Marseille</td>\n      <td>Toulouse</td>\n      <td>62.62</td>\n      <td>56.83</td>\n      <td>0.5033</td>\n      <td>0.2126</td>\n      <td>...</td>\n      <td>0.38</td>\n      <td>0.26</td>\n      <td>0.59</td>\n      <td>0.81</td>\n      <td>0.00</td>\n      <td>0.00</td>\n      <td>0</td>\n      <td>0</td>\n      <td>0.000</td>\n      <td>0.000</td>\n    </tr>\n    <tr>\n      <th>29</th>\n      <td>2016</td>\n      <td>2016-08-15</td>\n      <td>2411</td>\n      <td>Barclays Premier League</td>\n      <td>Chelsea</td>\n      <td>West Ham United</td>\n      <td>80.70</td>\n      <td>63.27</td>\n      <td>0.6908</td>\n      <td>0.1177</td>\n      <td>...</td>\n      <td>1.55</td>\n      <td>0.55</td>\n      <td>1.76</td>\n      <td>0.75</td>\n      <td>2.10</td>\n      <td>1.05</td>\n      <td>0</td>\n      <td>0</td>\n      <td>0.000</td>\n      <td>0.000</td>\n    </tr>\n    <tr>\n      <th>30</th>\n      <td>2016</td>\n      <td>2016-08-19</td>\n      <td>1843</td>\n      <td>French Ligue 1</td>\n      <td>Lyon</td>\n      <td>Caen</td>\n      <td>70.32</td>\n      <td>55.32</td>\n      <td>0.6106</td>\n      <td>0.1554</td>\n      <td>...</td>\n      <td>2.92</td>\n      <td>0.53</td>\n      <td>1.79</td>\n      <td>0.52</td>\n      <td>1.58</td>\n      <td>0.00</td>\n      <td>1</td>\n      <td>1</td>\n      <td>0.500</td>\n      <td>0.500</td>\n    </tr>\n    <tr>\n      <th>31</th>\n      <td>2016</td>\n      <td>2016-08-19</td>\n      <td>1869</td>\n      <td>Spanish Primera Division</td>\n      <td>Málaga</td>\n      <td>Osasuna</td>\n      <td>72.57</td>\n      <td>56.93</td>\n      <td>0.5475</td>\n      <td>0.1897</td>\n      <td>...</td>\n      <td>0.92</td>\n      <td>0.81</td>\n      <td>1.40</td>\n      <td>0.69</td>\n      <td>1.05</td>\n      <td>1.05</td>\n      <td>0</td>\n      <td>0</td>\n      <td>0.000</td>\n      <td>0.000</td>\n    </tr>\n    <tr>\n      <th>32</th>\n      <td>2016</td>\n      <td>2016-08-19</td>\n      <td>2411</td>\n      <td>Barclays Premier League</td>\n      <td>Manchester United</td>\n      <td>Southampton</td>\n      <td>81.05</td>\n      <td>69.22</td>\n      <td>0.6197</td>\n      <td>0.1494</td>\n      <td>...</td>\n      <td>1.37</td>\n      <td>0.70</td>\n      <td>1.59</td>\n      <td>1.69</td>\n      <td>2.10</td>\n      <td>0.00</td>\n      <td>1</td>\n      <td>0</td>\n      <td>0.500</td>\n      <td>0.000</td>\n    </tr>\n    <tr>\n      <th>33</th>\n      <td>2016</td>\n      <td>2016-08-19</td>\n      <td>1869</td>\n      <td>Spanish Primera Division</td>\n      <td>Deportivo La Coruña</td>\n      <td>Eibar</td>\n      <td>66.52</td>\n      <td>62.29</td>\n      <td>0.5003</td>\n      <td>0.2260</td>\n      <td>...</td>\n      <td>1.70</td>\n      <td>0.33</td>\n      <td>0.48</td>\n      <td>0.81</td>\n      <td>2.10</td>\n      <td>1.05</td>\n      <td>0</td>\n      <td>0</td>\n      <td>0.000</td>\n      <td>0.000</td>\n    </tr>\n    <tr>\n      <th>34</th>\n      <td>2016</td>\n      <td>2016-08-20</td>\n      <td>2411</td>\n      <td>Barclays Premier League</td>\n      <td>Stoke City</td>\n      <td>Manchester City</td>\n      <td>60.42</td>\n      <td>85.71</td>\n      <td>0.1278</td>\n      <td>0.6720</td>\n      <td>...</td>\n      <td>1.38</td>\n      <td>2.26</td>\n      <td>0.83</td>\n      <td>2.05</td>\n      <td>1.05</td>\n      <td>3.27</td>\n      <td>0</td>\n      <td>1</td>\n      <td>0.000</td>\n      <td>0.500</td>\n    </tr>\n    <tr>\n      <th>35</th>\n      <td>2016</td>\n      <td>2016-08-20</td>\n      <td>2411</td>\n      <td>Barclays Premier League</td>\n      <td>Watford</td>\n      <td>Chelsea</td>\n      <td>59.57</td>\n      <td>80.51</td>\n      <td>0.1955</td>\n      <td>0.5783</td>\n      <td>...</td>\n      <td>0.76</td>\n      <td>1.87</td>\n      <td>0.47</td>\n      <td>2.04</td>\n      <td>1.05</td>\n      <td>2.10</td>\n      <td>0</td>\n      <td>1</td>\n      <td>0.000</td>\n      <td>0.500</td>\n    </tr>\n    <tr>\n      <th>36</th>\n      <td>2016</td>\n      <td>2016-08-20</td>\n      <td>2411</td>\n      <td>Barclays Premier League</td>\n      <td>Swansea City</td>\n      <td>Hull City</td>\n      <td>60.87</td>\n      <td>53.47</td>\n      <td>0.4993</td>\n      <td>0.2171</td>\n      <td>...</td>\n      <td>1.35</td>\n      <td>1.94</td>\n      <td>3.11</td>\n      <td>0.94</td>\n      <td>0.00</td>\n      <td>1.58</td>\n      <td>1</td>\n      <td>1</td>\n      <td>0.500</td>\n      <td>7.120</td>\n    </tr>\n    <tr>\n      <th>37</th>\n      <td>2016</td>\n      <td>2016-08-20</td>\n      <td>2411</td>\n      <td>Barclays Premier League</td>\n      <td>Burnley</td>\n      <td>Liverpool</td>\n      <td>57.85</td>\n      <td>78.87</td>\n      <td>0.2079</td>\n      <td>0.5520</td>\n      <td>...</td>\n      <td>0.21</td>\n      <td>1.19</td>\n      <td>0.33</td>\n      <td>2.36</td>\n      <td>2.10</td>\n      <td>0.00</td>\n      <td>0</td>\n      <td>1</td>\n      <td>0.000</td>\n      <td>3.055</td>\n    </tr>\n    <tr>\n      <th>38</th>\n      <td>2016</td>\n      <td>2016-08-20</td>\n      <td>2411</td>\n      <td>Barclays Premier League</td>\n      <td>Tottenham Hotspur</td>\n      <td>Crystal Palace</td>\n      <td>73.64</td>\n      <td>54.21</td>\n      <td>0.6638</td>\n      <td>0.1190</td>\n      <td>...</td>\n      <td>2.32</td>\n      <td>0.40</td>\n      <td>1.38</td>\n      <td>0.79</td>\n      <td>1.05</td>\n      <td>0.00</td>\n      <td>0</td>\n      <td>0</td>\n      <td>0.000</td>\n      <td>0.000</td>\n    </tr>\n    <tr>\n      <th>39</th>\n      <td>2016</td>\n      <td>2016-08-20</td>\n      <td>2411</td>\n      <td>Barclays Premier League</td>\n      <td>West Bromwich Albion</td>\n      <td>Everton</td>\n      <td>59.64</td>\n      <td>67.51</td>\n      <td>0.3696</td>\n      <td>0.3491</td>\n      <td>...</td>\n      <td>2.12</td>\n      <td>1.95</td>\n      <td>1.76</td>\n      <td>2.14</td>\n      <td>1.05</td>\n      <td>2.10</td>\n      <td>1</td>\n      <td>0</td>\n      <td>0.500</td>\n      <td>0.000</td>\n    </tr>\n    <tr>\n      <th>...</th>\n      <td>...</td>\n      <td>...</td>\n      <td>...</td>\n      <td>...</td>\n      <td>...</td>\n      <td>...</td>\n      <td>...</td>\n      <td>...</td>\n      <td>...</td>\n      <td>...</td>\n      <td>...</td>\n      <td>...</td>\n      <td>...</td>\n      <td>...</td>\n      <td>...</td>\n      <td>...</td>\n      <td>...</td>\n      <td>...</td>\n      <td>...</td>\n      <td>...</td>\n      <td>...</td>\n    </tr>\n    <tr>\n      <th>35055</th>\n      <td>2020</td>\n      <td>2020-10-04</td>\n      <td>1856</td>\n      <td>Italy Serie B</td>\n      <td>Pisa</td>\n      <td>Cremonese</td>\n      <td>21.94</td>\n      <td>23.77</td>\n      <td>0.4083</td>\n      <td>0.2826</td>\n      <td>...</td>\n      <td>0.75</td>\n      <td>0.43</td>\n      <td>1.26</td>\n      <td>1.06</td>\n      <td>1.05</td>\n      <td>1.05</td>\n      <td>0</td>\n      <td>0</td>\n      <td>0.000</td>\n      <td>0.000</td>\n    </tr>\n    <tr>\n      <th>35056</th>\n      <td>2020</td>\n      <td>2020-10-04</td>\n      <td>1843</td>\n      <td>French Ligue 1</td>\n      <td>Brest</td>\n      <td>AS Monaco</td>\n      <td>56.71</td>\n      <td>66.95</td>\n      <td>0.3087</td>\n      <td>0.4525</td>\n      <td>...</td>\n      <td>0.81</td>\n      <td>1.79</td>\n      <td>0.87</td>\n      <td>1.77</td>\n      <td>1.05</td>\n      <td>0.00</td>\n      <td>0</td>\n      <td>1</td>\n      <td>0.000</td>\n      <td>0.500</td>\n    </tr>\n    <tr>\n      <th>35058</th>\n      <td>2020</td>\n      <td>2020-10-04</td>\n      <td>2411</td>\n      <td>Barclays Premier League</td>\n      <td>Arsenal</td>\n      <td>Sheffield United</td>\n      <td>78.69</td>\n      <td>66.93</td>\n      <td>0.5815</td>\n      <td>0.1772</td>\n      <td>...</td>\n      <td>0.61</td>\n      <td>0.20</td>\n      <td>0.80</td>\n      <td>0.73</td>\n      <td>2.10</td>\n      <td>1.05</td>\n      <td>0</td>\n      <td>0</td>\n      <td>0.000</td>\n      <td>0.000</td>\n    </tr>\n    <tr>\n      <th>35059</th>\n      <td>2020</td>\n      <td>2020-10-04</td>\n      <td>2412</td>\n      <td>English League Championship</td>\n      <td>Brentford</td>\n      <td>Preston North End</td>\n      <td>62.33</td>\n      <td>48.14</td>\n      <td>0.5746</td>\n      <td>0.1629</td>\n      <td>...</td>\n      <td>1.53</td>\n      <td>1.78</td>\n      <td>0.77</td>\n      <td>1.50</td>\n      <td>2.10</td>\n      <td>4.20</td>\n      <td>0</td>\n      <td>0</td>\n      <td>0.000</td>\n      <td>0.000</td>\n    </tr>\n    <tr>\n      <th>35060</th>\n      <td>2020</td>\n      <td>2020-10-04</td>\n      <td>1843</td>\n      <td>French Ligue 1</td>\n      <td>Metz</td>\n      <td>Lorient</td>\n      <td>55.85</td>\n      <td>51.97</td>\n      <td>0.4464</td>\n      <td>0.2734</td>\n      <td>...</td>\n      <td>1.61</td>\n      <td>0.85</td>\n      <td>1.97</td>\n      <td>0.73</td>\n      <td>3.15</td>\n      <td>1.05</td>\n      <td>0</td>\n      <td>0</td>\n      <td>0.000</td>\n      <td>0.000</td>\n    </tr>\n    <tr>\n      <th>35062</th>\n      <td>2020</td>\n      <td>2020-10-04</td>\n      <td>1843</td>\n      <td>French Ligue 1</td>\n      <td>Strasbourg</td>\n      <td>Lille</td>\n      <td>58.22</td>\n      <td>71.19</td>\n      <td>0.2705</td>\n      <td>0.4475</td>\n      <td>...</td>\n      <td>1.14</td>\n      <td>1.77</td>\n      <td>2.53</td>\n      <td>1.09</td>\n      <td>0.00</td>\n      <td>3.15</td>\n      <td>0</td>\n      <td>1</td>\n      <td>0.000</td>\n      <td>0.500</td>\n    </tr>\n    <tr>\n      <th>35063</th>\n      <td>2020</td>\n      <td>2020-10-04</td>\n      <td>1854</td>\n      <td>Italy Serie A</td>\n      <td>Parma</td>\n      <td>Verona</td>\n      <td>55.17</td>\n      <td>58.63</td>\n      <td>0.3964</td>\n      <td>0.3315</td>\n      <td>...</td>\n      <td>1.14</td>\n      <td>0.73</td>\n      <td>0.83</td>\n      <td>1.49</td>\n      <td>1.05</td>\n      <td>0.00</td>\n      <td>0</td>\n      <td>1</td>\n      <td>0.000</td>\n      <td>1.470</td>\n    </tr>\n    <tr>\n      <th>35064</th>\n      <td>2020</td>\n      <td>2020-10-04</td>\n      <td>1845</td>\n      <td>German Bundesliga</td>\n      <td>VfL Wolfsburg</td>\n      <td>FC Augsburg</td>\n      <td>72.23</td>\n      <td>63.91</td>\n      <td>0.5169</td>\n      <td>0.2135</td>\n      <td>...</td>\n      <td>1.42</td>\n      <td>1.50</td>\n      <td>2.19</td>\n      <td>1.03</td>\n      <td>0.00</td>\n      <td>0.00</td>\n      <td>0</td>\n      <td>2</td>\n      <td>0.000</td>\n      <td>11.820</td>\n    </tr>\n    <tr>\n      <th>35072</th>\n      <td>2020</td>\n      <td>2020-10-04</td>\n      <td>2105</td>\n      <td>Brasileiro Série A</td>\n      <td>Botafogo</td>\n      <td>Fluminense</td>\n      <td>42.46</td>\n      <td>51.57</td>\n      <td>0.3871</td>\n      <td>0.3392</td>\n      <td>...</td>\n      <td>2.00</td>\n      <td>0.30</td>\n      <td>1.56</td>\n      <td>0.99</td>\n      <td>1.05</td>\n      <td>1.05</td>\n      <td>0</td>\n      <td>1</td>\n      <td>0.000</td>\n      <td>0.500</td>\n    </tr>\n    <tr>\n      <th>35077</th>\n      <td>2020</td>\n      <td>2020-10-04</td>\n      <td>2412</td>\n      <td>English League Championship</td>\n      <td>Stoke City</td>\n      <td>Birmingham</td>\n      <td>53.34</td>\n      <td>44.74</td>\n      <td>0.4999</td>\n      <td>0.2262</td>\n      <td>...</td>\n      <td>1.15</td>\n      <td>0.16</td>\n      <td>1.42</td>\n      <td>0.52</td>\n      <td>1.05</td>\n      <td>1.05</td>\n      <td>1</td>\n      <td>0</td>\n      <td>0.500</td>\n      <td>0.000</td>\n    </tr>\n    <tr>\n      <th>35079</th>\n      <td>2020</td>\n      <td>2020-10-04</td>\n      <td>1864</td>\n      <td>Portuguese Liga</td>\n      <td>C.D. Nacional</td>\n      <td>Belenenses</td>\n      <td>42.55</td>\n      <td>39.61</td>\n      <td>0.4804</td>\n      <td>0.2523</td>\n      <td>...</td>\n      <td>1.01</td>\n      <td>0.74</td>\n      <td>1.03</td>\n      <td>0.81</td>\n      <td>0.00</td>\n      <td>0.00</td>\n      <td>1</td>\n      <td>0</td>\n      <td>0.500</td>\n      <td>0.000</td>\n    </tr>\n    <tr>\n      <th>35080</th>\n      <td>2020</td>\n      <td>2020-10-04</td>\n      <td>1849</td>\n      <td>Dutch Eredivisie</td>\n      <td>PSV</td>\n      <td>Fortuna Sittard</td>\n      <td>63.67</td>\n      <td>31.84</td>\n      <td>0.8186</td>\n      <td>0.0449</td>\n      <td>...</td>\n      <td>1.33</td>\n      <td>1.03</td>\n      <td>1.34</td>\n      <td>1.68</td>\n      <td>1.73</td>\n      <td>0.00</td>\n      <td>0</td>\n      <td>0</td>\n      <td>0.000</td>\n      <td>0.000</td>\n    </tr>\n    <tr>\n      <th>35082</th>\n      <td>2020</td>\n      <td>2020-10-04</td>\n      <td>1843</td>\n      <td>French Ligue 1</td>\n      <td>Stade Rennes</td>\n      <td>Reims</td>\n      <td>68.66</td>\n      <td>54.24</td>\n      <td>0.5958</td>\n      <td>0.1475</td>\n      <td>...</td>\n      <td>2.18</td>\n      <td>0.99</td>\n      <td>1.78</td>\n      <td>0.66</td>\n      <td>2.10</td>\n      <td>2.10</td>\n      <td>7</td>\n      <td>0</td>\n      <td>3.640</td>\n      <td>0.000</td>\n    </tr>\n    <tr>\n      <th>35086</th>\n      <td>2020</td>\n      <td>2020-10-04</td>\n      <td>2411</td>\n      <td>Barclays Premier League</td>\n      <td>Manchester United</td>\n      <td>Tottenham Hotspur</td>\n      <td>83.96</td>\n      <td>78.87</td>\n      <td>0.5211</td>\n      <td>0.2460</td>\n      <td>...</td>\n      <td>0.93</td>\n      <td>3.75</td>\n      <td>0.85</td>\n      <td>1.46</td>\n      <td>1.05</td>\n      <td>5.29</td>\n      <td>1</td>\n      <td>0</td>\n      <td>0.500</td>\n      <td>0.000</td>\n    </tr>\n    <tr>\n      <th>35090</th>\n      <td>2020</td>\n      <td>2020-10-04</td>\n      <td>1854</td>\n      <td>Italy Serie A</td>\n      <td>AC Milan</td>\n      <td>Spezia</td>\n      <td>79.82</td>\n      <td>51.98</td>\n      <td>0.7842</td>\n      <td>0.0616</td>\n      <td>...</td>\n      <td>2.56</td>\n      <td>0.15</td>\n      <td>2.13</td>\n      <td>0.35</td>\n      <td>2.82</td>\n      <td>0.00</td>\n      <td>4</td>\n      <td>1</td>\n      <td>2.000</td>\n      <td>5.470</td>\n    </tr>\n    <tr>\n      <th>35092</th>\n      <td>2020</td>\n      <td>2020-10-04</td>\n      <td>1845</td>\n      <td>German Bundesliga</td>\n      <td>Bayern Munich</td>\n      <td>Hertha Berlin</td>\n      <td>94.33</td>\n      <td>68.37</td>\n      <td>0.8733</td>\n      <td>0.0340</td>\n      <td>...</td>\n      <td>4.33</td>\n      <td>1.07</td>\n      <td>2.94</td>\n      <td>0.67</td>\n      <td>4.20</td>\n      <td>3.15</td>\n      <td>0</td>\n      <td>0</td>\n      <td>0.000</td>\n      <td>0.000</td>\n    </tr>\n    <tr>\n      <th>35099</th>\n      <td>2020</td>\n      <td>2020-10-04</td>\n      <td>1869</td>\n      <td>Spanish Primera Division</td>\n      <td>Cadiz</td>\n      <td>Granada</td>\n      <td>64.51</td>\n      <td>71.33</td>\n      <td>0.3558</td>\n      <td>0.3600</td>\n      <td>...</td>\n      <td>1.17</td>\n      <td>0.73</td>\n      <td>1.01</td>\n      <td>1.12</td>\n      <td>1.05</td>\n      <td>1.05</td>\n      <td>1</td>\n      <td>0</td>\n      <td>3.085</td>\n      <td>0.000</td>\n    </tr>\n    <tr>\n      <th>35101</th>\n      <td>2020</td>\n      <td>2020-10-04</td>\n      <td>1952</td>\n      <td>Mexican Primera Division Torneo Apertura</td>\n      <td>Toluca</td>\n      <td>Cruz Azul</td>\n      <td>37.28</td>\n      <td>55.94</td>\n      <td>0.2682</td>\n      <td>0.4844</td>\n      <td>...</td>\n      <td>0.94</td>\n      <td>2.60</td>\n      <td>0.91</td>\n      <td>3.07</td>\n      <td>2.10</td>\n      <td>0.00</td>\n      <td>0</td>\n      <td>0</td>\n      <td>0.000</td>\n      <td>0.000</td>\n    </tr>\n    <tr>\n      <th>35102</th>\n      <td>2020</td>\n      <td>2020-10-04</td>\n      <td>1864</td>\n      <td>Portuguese Liga</td>\n      <td>Famalicao</td>\n      <td>Rio Ave</td>\n      <td>44.48</td>\n      <td>52.79</td>\n      <td>0.3651</td>\n      <td>0.3653</td>\n      <td>...</td>\n      <td>1.58</td>\n      <td>0.86</td>\n      <td>0.52</td>\n      <td>1.54</td>\n      <td>1.05</td>\n      <td>1.05</td>\n      <td>1</td>\n      <td>0</td>\n      <td>0.500</td>\n      <td>0.000</td>\n    </tr>\n    <tr>\n      <th>35103</th>\n      <td>2020</td>\n      <td>2020-10-04</td>\n      <td>1864</td>\n      <td>Portuguese Liga</td>\n      <td>Benfica</td>\n      <td>SC Farense</td>\n      <td>77.02</td>\n      <td>40.81</td>\n      <td>0.8761</td>\n      <td>0.0283</td>\n      <td>...</td>\n      <td>1.85</td>\n      <td>1.96</td>\n      <td>1.83</td>\n      <td>1.01</td>\n      <td>2.71</td>\n      <td>2.10</td>\n      <td>5</td>\n      <td>0</td>\n      <td>2.500</td>\n      <td>0.000</td>\n    </tr>\n    <tr>\n      <th>35105</th>\n      <td>2020</td>\n      <td>2020-10-04</td>\n      <td>2411</td>\n      <td>Barclays Premier League</td>\n      <td>Aston Villa</td>\n      <td>Liverpool</td>\n      <td>69.04</td>\n      <td>91.44</td>\n      <td>0.1201</td>\n      <td>0.7000</td>\n      <td>...</td>\n      <td>3.23</td>\n      <td>2.01</td>\n      <td>1.40</td>\n      <td>2.22</td>\n      <td>7.23</td>\n      <td>2.10</td>\n      <td>2</td>\n      <td>5</td>\n      <td>1.975</td>\n      <td>2.500</td>\n    </tr>\n    <tr>\n      <th>35110</th>\n      <td>2020</td>\n      <td>2020-10-04</td>\n      <td>2105</td>\n      <td>Brasileiro Série A</td>\n      <td>Flamengo</td>\n      <td>Atlético Paranaense</td>\n      <td>70.01</td>\n      <td>52.75</td>\n      <td>0.6899</td>\n      <td>0.1066</td>\n      <td>...</td>\n      <td>2.10</td>\n      <td>0.93</td>\n      <td>1.79</td>\n      <td>0.65</td>\n      <td>2.99</td>\n      <td>1.05</td>\n      <td>0</td>\n      <td>2</td>\n      <td>0.000</td>\n      <td>1.000</td>\n    </tr>\n    <tr>\n      <th>35111</th>\n      <td>2020</td>\n      <td>2020-10-04</td>\n      <td>1856</td>\n      <td>Italy Serie B</td>\n      <td>Cittadella</td>\n      <td>Brescia</td>\n      <td>27.07</td>\n      <td>39.21</td>\n      <td>0.2970</td>\n      <td>0.4209</td>\n      <td>...</td>\n      <td>0.58</td>\n      <td>0.71</td>\n      <td>0.98</td>\n      <td>1.63</td>\n      <td>2.54</td>\n      <td>0.00</td>\n      <td>1</td>\n      <td>0</td>\n      <td>0.500</td>\n      <td>0.000</td>\n    </tr>\n    <tr>\n      <th>35112</th>\n      <td>2020</td>\n      <td>2020-10-04</td>\n      <td>1843</td>\n      <td>French Ligue 1</td>\n      <td>Lyon</td>\n      <td>Marseille</td>\n      <td>75.95</td>\n      <td>65.03</td>\n      <td>0.5698</td>\n      <td>0.1851</td>\n      <td>...</td>\n      <td>3.08</td>\n      <td>0.48</td>\n      <td>2.39</td>\n      <td>0.26</td>\n      <td>0.84</td>\n      <td>1.05</td>\n      <td>0</td>\n      <td>0</td>\n      <td>0.000</td>\n      <td>0.000</td>\n    </tr>\n    <tr>\n      <th>35114</th>\n      <td>2020</td>\n      <td>2020-10-04</td>\n      <td>2105</td>\n      <td>Brasileiro Série A</td>\n      <td>Coritiba</td>\n      <td>São Paulo</td>\n      <td>39.70</td>\n      <td>58.52</td>\n      <td>0.2877</td>\n      <td>0.4349</td>\n      <td>...</td>\n      <td>0.13</td>\n      <td>1.69</td>\n      <td>0.14</td>\n      <td>2.18</td>\n      <td>1.05</td>\n      <td>1.05</td>\n      <td>0</td>\n      <td>0</td>\n      <td>0.000</td>\n      <td>0.000</td>\n    </tr>\n    <tr>\n      <th>35115</th>\n      <td>2020</td>\n      <td>2020-10-04</td>\n      <td>1864</td>\n      <td>Portuguese Liga</td>\n      <td>Portimonense</td>\n      <td>Sporting CP</td>\n      <td>45.11</td>\n      <td>60.73</td>\n      <td>0.2675</td>\n      <td>0.4602</td>\n      <td>...</td>\n      <td>0.88</td>\n      <td>1.82</td>\n      <td>1.41</td>\n      <td>1.52</td>\n      <td>0.00</td>\n      <td>2.10</td>\n      <td>0</td>\n      <td>1</td>\n      <td>0.000</td>\n      <td>0.500</td>\n    </tr>\n    <tr>\n      <th>35118</th>\n      <td>2020</td>\n      <td>2020-10-04</td>\n      <td>2105</td>\n      <td>Brasileiro Série A</td>\n      <td>Fortaleza</td>\n      <td>Atlético Goianiense</td>\n      <td>48.05</td>\n      <td>43.76</td>\n      <td>0.4758</td>\n      <td>0.2458</td>\n      <td>...</td>\n      <td>1.06</td>\n      <td>0.39</td>\n      <td>1.68</td>\n      <td>0.87</td>\n      <td>0.00</td>\n      <td>0.00</td>\n      <td>0</td>\n      <td>0</td>\n      <td>0.000</td>\n      <td>0.000</td>\n    </tr>\n    <tr>\n      <th>35119</th>\n      <td>2020</td>\n      <td>2020-10-04</td>\n      <td>2105</td>\n      <td>Brasileiro Série A</td>\n      <td>Goiás</td>\n      <td>Santos</td>\n      <td>40.47</td>\n      <td>55.61</td>\n      <td>0.3331</td>\n      <td>0.4134</td>\n      <td>...</td>\n      <td>0.98</td>\n      <td>2.62</td>\n      <td>0.63</td>\n      <td>1.05</td>\n      <td>2.10</td>\n      <td>2.98</td>\n      <td>0</td>\n      <td>0</td>\n      <td>0.000</td>\n      <td>0.000</td>\n    </tr>\n    <tr>\n      <th>35120</th>\n      <td>2020</td>\n      <td>2020-10-04</td>\n      <td>2105</td>\n      <td>Brasileiro Série A</td>\n      <td>Bahía</td>\n      <td>Sport Recife</td>\n      <td>47.94</td>\n      <td>43.11</td>\n      <td>0.5103</td>\n      <td>0.2391</td>\n      <td>...</td>\n      <td>2.86</td>\n      <td>1.05</td>\n      <td>2.01</td>\n      <td>0.96</td>\n      <td>1.05</td>\n      <td>2.10</td>\n      <td>1</td>\n      <td>2</td>\n      <td>0.500</td>\n      <td>8.015</td>\n    </tr>\n    <tr>\n      <th>35121</th>\n      <td>2020</td>\n      <td>2020-10-04</td>\n      <td>1952</td>\n      <td>Mexican Primera Division Torneo Apertura</td>\n      <td>FC Juárez</td>\n      <td>Pachuca</td>\n      <td>38.70</td>\n      <td>50.68</td>\n      <td>0.3257</td>\n      <td>0.3725</td>\n      <td>...</td>\n      <td>1.15</td>\n      <td>1.25</td>\n      <td>0.87</td>\n      <td>1.70</td>\n      <td>1.05</td>\n      <td>1.05</td>\n      <td>0</td>\n      <td>0</td>\n      <td>0.000</td>\n      <td>0.000</td>\n    </tr>\n  </tbody>\n</table>\n<p>16526 rows × 27 columns</p>\n</div>"
     },
     "metadata": {},
     "execution_count": 157
    }
   ],
   "source": [
    "played_matches"
   ]
  },
  {
   "source": [
    "Now that we've engineered some new features, let's see investigate how regression can help us predict scores for a given game. First, we'll manipulate the dataset to generate some training data and some testing data. This is not as simple as filtering dataframe columns because we actually have 2 samples contained within each row (home team's score, away team's score)."
   ],
   "cell_type": "markdown",
   "metadata": {}
  },
  {
   "cell_type": "code",
   "execution_count": 118,
   "metadata": {
    "tags": []
   },
   "outputs": [],
   "source": [
    "\n",
    "\n",
    "train = pd.DataFrame()\n",
    "test = pd.DataFrame()\n",
    "counter = 0\n",
    "switch_index = int(len(played_matches) * 0.8)\n",
    "for match in played_matches.itertuples():\n",
    "    if counter < switch_index:\n",
    "        new_frame = pd.DataFrame()\n",
    "        new_frame.at[0, 'spi'] = match.spi1\n",
    "        new_frame.at[0, 'prob'] = match.prob1\n",
    "        new_frame.at[0, 'importance'] = match.importance1\n",
    "        new_frame.at[0, 'spi_o'] = match.spi2\n",
    "        new_frame.at[0, 'prob_o'] = match.prob2\n",
    "        new_frame.at[0, 'importance_o'] = match.importance2\n",
    "        new_frame.at[0, 'wws'] = match.win_streak_weighted1\n",
    "        new_frame.at[0, 'wws_o'] = match.win_streak_weighted2\n",
    "        new_frame.at[0, 'score'] = match.score1\n",
    "        train = train.append(new_frame)\n",
    "        new_frame = pd.DataFrame()\n",
    "        new_frame.at[0, 'spi'] = match.spi2\n",
    "        new_frame.at[0, 'prob'] = match.prob2\n",
    "        new_frame.at[0, 'importance'] = match.importance2\n",
    "        new_frame.at[0, 'spi_o'] = match.spi1\n",
    "        new_frame.at[0, 'prob_o'] = match.prob1\n",
    "        new_frame.at[0, 'importance_o'] = match.importance1\n",
    "        new_frame.at[0, 'wws'] = match.win_streak_weighted2\n",
    "        new_frame.at[0, 'wws_o'] = match.win_streak_weighted1\n",
    "        new_frame.at[0, 'score'] = match.score2\n",
    "        train = train.append(new_frame)\n",
    "    else:\n",
    "        new_frame = pd.DataFrame()\n",
    "        new_frame.at[0, 'spi'] = match.spi1\n",
    "        new_frame.at[0, 'prob'] = match.prob1\n",
    "        new_frame.at[0, 'importance'] = match.importance1\n",
    "        new_frame.at[0, 'spi_o'] = match.spi2\n",
    "        new_frame.at[0, 'prob_o'] = match.prob2\n",
    "        new_frame.at[0, 'importance_o'] = match.importance2\n",
    "        new_frame.at[0, 'wws'] = match.win_streak_weighted1\n",
    "        new_frame.at[0, 'wws_o'] = match.win_streak_weighted2\n",
    "        new_frame.at[0, 'score'] = match.score1\n",
    "        test = test.append(new_frame)\n",
    "        new_frame = pd.DataFrame()\n",
    "        new_frame.at[0, 'spi'] = match.spi2\n",
    "        new_frame.at[0, 'prob'] = match.prob2\n",
    "        new_frame.at[0, 'importance'] = match.importance2\n",
    "        new_frame.at[0, 'spi_o'] = match.spi1\n",
    "        new_frame.at[0, 'prob_o'] = match.prob1\n",
    "        new_frame.at[0, 'importance_o'] = match.importance1\n",
    "        new_frame.at[0, 'wws'] = match.win_streak_weighted2\n",
    "        new_frame.at[0, 'wws_o'] = match.win_streak_weighted1\n",
    "        new_frame.at[0, 'score'] = match.score2\n",
    "        test = test.append(new_frame)\n",
    "    counter += 1\n"
   ]
  },
  {
   "source": [
    "Now that we have each game split into two entries and the dataset split between training and testing data, we can filter out the data we want to feed into a Regression model."
   ],
   "cell_type": "markdown",
   "metadata": {}
  },
  {
   "cell_type": "code",
   "execution_count": 140,
   "metadata": {},
   "outputs": [],
   "source": [
    "x_train = train[['spi', 'prob', 'importance', 'spi_o', 'prob_o', 'importance_o', 'wws', 'wws_o']]\n",
    "y_train = train['score']\n",
    "x_test = test[['spi', 'prob', 'importance', 'spi_o', 'prob_o', 'importance_o', 'wws', 'wws_o']]\n",
    "y_test = test['score']"
   ]
  },
  {
   "source": [
    "First we will try Gradient Boosting."
   ],
   "cell_type": "markdown",
   "metadata": {}
  },
  {
   "cell_type": "code",
   "execution_count": 126,
   "metadata": {},
   "outputs": [
    {
     "output_type": "execute_result",
     "data": {
      "text/plain": "GradientBoostingRegressor(alpha=0.9, ccp_alpha=0.0, criterion=&#39;friedman_mse&#39;,\n                          init=None, learning_rate=0.1, loss=&#39;ls&#39;, max_depth=3,\n                          max_features=None, max_leaf_nodes=None,\n                          min_impurity_decrease=0.0, min_impurity_split=None,\n                          min_samples_leaf=1, min_samples_split=2,\n                          min_weight_fraction_leaf=0.0, n_estimators=100,\n                          n_iter_no_change=None, presort=&#39;deprecated&#39;,\n                          random_state=None, subsample=1.0, tol=0.0001,\n                          validation_fraction=0.1, verbose=0, warm_start=False)"
     },
     "metadata": {},
     "execution_count": 126
    }
   ],
   "source": [
    "from sklearn.ensemble import GradientBoostingRegressor\n",
    "\n",
    "estimator = GradientBoostingRegressor()\n",
    "estimator.fit(x_train, y_train)"
   ]
  },
  {
   "cell_type": "code",
   "execution_count": 143,
   "metadata": {
    "tags": []
   },
   "outputs": [
    {
     "output_type": "stream",
     "name": "stdout",
     "text": "Average error = 0.9080543566029726\n"
    }
   ],
   "source": [
    "predictions = list(estimator.predict(x_test))\n",
    "diff_sum = 0.0\n",
    "y_test_list = list(y_test.values)\n",
    "total =  len(predictions)\n",
    "for x in range(0, total):\n",
    "    diff_sum += abs(predictions[x] - y_test_list[x])\n",
    "print('Average error = ' + str(diff_sum/total))"
   ]
  },
  {
   "source": [
    "Not a bad score, but maybe we can do better. To prove that our win streaks idea is useful, let's compare that to the accuracy without using win streaks.\n"
   ],
   "cell_type": "markdown",
   "metadata": {}
  },
  {
   "cell_type": "code",
   "execution_count": 147,
   "metadata": {
    "tags": []
   },
   "outputs": [
    {
     "output_type": "stream",
     "name": "stdout",
     "text": "Average error (without win streaks)= 0.9080660192258367\n"
    }
   ],
   "source": [
    "x_train = train[['spi', 'prob', 'importance', 'spi_o', 'prob_o', 'importance_o']]\n",
    "y_train = train['score']\n",
    "x_test = test[['spi', 'prob', 'importance', 'spi_o', 'prob_o', 'importance_o']]\n",
    "y_test = test['score']\n",
    "estimator = GradientBoostingRegressor()\n",
    "estimator.fit(x_train, y_train)\n",
    "predictions = list(estimator.predict(x_test))\n",
    "diff_sum = 0.0\n",
    "y_test_list = list(y_test.values)\n",
    "total =  len(predictions)\n",
    "for x in range(0, total):\n",
    "    diff_sum += abs(predictions[x] - y_test_list[x])\n",
    "print('Average error (without win streaks)= ' + str(diff_sum/total))"
   ]
  },
  {
   "source": [
    "Turns out it was not very important at all (it made our model slightly worse). Let's see if we get better performance with a different regression technique."
   ],
   "cell_type": "markdown",
   "metadata": {}
  },
  {
   "cell_type": "code",
   "execution_count": 152,
   "metadata": {
    "tags": []
   },
   "outputs": [
    {
     "output_type": "stream",
     "name": "stdout",
     "text": "Average error= 0.9461978221415618\n"
    }
   ],
   "source": [
    "from sklearn.ensemble import RandomForestRegressor\n",
    "\n",
    "x_train = train[['spi', 'prob', 'importance', 'spi_o', 'prob_o', 'importance_o', 'wws', 'wws_o']]\n",
    "y_train = train['score']\n",
    "x_test = test[['spi', 'prob', 'importance', 'spi_o', 'prob_o', 'importance_o', 'wws', 'wws_o']]\n",
    "y_test = test['score']\n",
    "rand_forest = RandomForestRegressor()\n",
    "rand_forest.fit(x_train, y_train)\n",
    "predictions = list(rand_forest.predict(x_test))\n",
    "diff_sum = 0.0\n",
    "y_test_list = list(y_test.values)\n",
    "total =  len(predictions)\n",
    "for x in range(0, total):\n",
    "    diff_sum += abs(predictions[x] - y_test_list[x])\n",
    "print('Average error= ' + str(diff_sum/total))"
   ]
  },
  {
   "source": [
    "Hmmm, a Random Forest Regressor has not improved our performance. I suppose this could be about as good as it gets, as predicting a team's score for a given game with an error on average of less than 1 goal is likely far better than most humans would fare. "
   ],
   "cell_type": "markdown",
   "metadata": {}
  }
 ]
}